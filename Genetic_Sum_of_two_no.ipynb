{
  "nbformat": 4,
  "nbformat_minor": 0,
  "metadata": {
    "colab": {
      "provenance": [],
      "authorship_tag": "ABX9TyMn4Y5Mfy0rwq+mlCc30kp0",
      "include_colab_link": true
    },
    "kernelspec": {
      "name": "python3",
      "display_name": "Python 3"
    },
    "language_info": {
      "name": "python"
    }
  },
  "cells": [
    {
      "cell_type": "markdown",
      "metadata": {
        "id": "view-in-github",
        "colab_type": "text"
      },
      "source": [
        "<a href=\"https://colab.research.google.com/github/BhavneetSaini/NeuralNetworkPractical/blob/main/Genetic_Sum_of_two_no.ipynb\" target=\"_parent\"><img src=\"https://colab.research.google.com/assets/colab-badge.svg\" alt=\"Open In Colab\"/></a>"
      ]
    },
    {
      "cell_type": "code",
      "execution_count": null,
      "metadata": {
        "colab": {
          "base_uri": "https://localhost:8080/"
        },
        "id": "af3c_QtWYx5P",
        "outputId": "07c63c5d-363c-41f9-c7c3-a4e4e6bfdac4"
      },
      "outputs": [
        {
          "output_type": "stream",
          "name": "stdout",
          "text": [
            "Generation 0, best fitness: -1.735313849989658\n",
            "Generation 10, best fitness: -0.006813690150706023\n",
            "Generation 20, best fitness: -0.009758617162756509\n",
            "Generation 30, best fitness: -0.005692400541171986\n",
            "Generation 40, best fitness: -0.0015120476534743687\n",
            "Generation 50, best fitness: -0.0005159010628629314\n",
            "Generation 60, best fitness: -0.000821317530725085\n",
            "Generation 70, best fitness: -0.0005053131202053904\n",
            "Generation 80, best fitness: -0.0006829830449609506\n",
            "Generation 90, best fitness: -0.0006834132470544011\n",
            "Predictions for inputs [[3, 4], [5, 5], [10, 15]]: [ 6.99516045  9.98541363 24.99038863]\n"
          ]
        }
      ],
      "source": [
        "import numpy as np\n",
        "\n",
        "# Define the neural network structure\n",
        "class SimpleNN:\n",
        "    def __init__(self):\n",
        "        # Initialize weights randomly\n",
        "        self.weights = np.random.rand(2, 1)  # Two inputs to one output\n",
        "\n",
        "    def predict(self, inputs):\n",
        "        # Simple linear combination\n",
        "        return np.dot(inputs, self.weights)\n",
        "\n",
        "# Define the fitness function\n",
        "def fitness(nn, x, y):\n",
        "    predicted = nn.predict(x)\n",
        "    return -np.mean(np.square(predicted - y))  # Negative MSE (we want to maximize)\n",
        "\n",
        "# Create a population of neural networks\n",
        "def create_population(size):\n",
        "    return [SimpleNN() for _ in range(size)]\n",
        "\n",
        "# Evolve the population\n",
        "def evolve_population(population, x, y, mutation_rate=0.1):\n",
        "    scores = [fitness(nn, x, y) for nn in population]\n",
        "    sorted_indices = np.argsort(scores)\n",
        "\n",
        "    # Select the top half of the population\n",
        "    survivors = [population[i] for i in sorted_indices[-len(population)//2:]]\n",
        "\n",
        "    # Create new population through crossover and mutation\n",
        "    new_population = []\n",
        "    for i in range(len(population)):\n",
        "        parent1, parent2 = np.random.choice(survivors, 2, replace=False)\n",
        "        child = SimpleNN()\n",
        "        # Average the weights of the parents\n",
        "        child.weights = (parent1.weights + parent2.weights) / 2\n",
        "\n",
        "        # Apply mutation\n",
        "        if np.random.rand() < mutation_rate:\n",
        "            child.weights += np.random.normal(0, 0.1, child.weights.shape)\n",
        "\n",
        "        new_population.append(child)\n",
        "\n",
        "    return new_population\n",
        "\n",
        "# Main function to run the genetic algorithm\n",
        "def genetic_nn_sum(target_samples, population_size=100, generations=100):\n",
        "    x = np.array([[a, b] for a, b in target_samples])  # Input pairs\n",
        "    y = np.array([[a + b] for a, b in target_samples])  # Target sums\n",
        "\n",
        "    population = create_population(population_size)\n",
        "\n",
        "    for generation in range(generations):\n",
        "        population = evolve_population(population, x, y)\n",
        "        if generation % 10 == 0:\n",
        "            print(f\"Generation {generation}, best fitness: {max(fitness(nn, x, y) for nn in population)}\")\n",
        "\n",
        "    # Return the best network\n",
        "    best_nn = population[np.argmax([fitness(nn, x, y) for nn in population])]\n",
        "    return best_nn\n",
        "\n",
        "# Example usage\n",
        "if __name__ == \"__main__\":\n",
        "    # Create target samples (pairs of numbers)\n",
        "    target_samples = [(i, j) for i in range(10) for j in range(10)]\n",
        "\n",
        "    best_nn = genetic_nn_sum(target_samples)\n",
        "\n",
        "    # Test the best neural network\n",
        "    test_input = np.array([[3, 4], [5, 5], [10, 15]])\n",
        "    predictions = best_nn.predict(test_input)\n",
        "    print(\"Predictions for inputs {}: {}\".format(test_input.tolist(), predictions.flatten()))\n"
      ]
    },
    {
      "cell_type": "code",
      "source": [],
      "metadata": {
        "id": "WIif4lAmohPr"
      },
      "execution_count": null,
      "outputs": []
    }
  ]
}