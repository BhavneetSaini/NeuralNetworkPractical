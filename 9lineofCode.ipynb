{
  "nbformat": 4,
  "nbformat_minor": 0,
  "metadata": {
    "colab": {
      "provenance": [],
      "authorship_tag": "ABX9TyMHbZs7x+cHdvY9Q0Dun6dy",
      "include_colab_link": true
    },
    "kernelspec": {
      "name": "python3",
      "display_name": "Python 3"
    },
    "language_info": {
      "name": "python"
    }
  },
  "cells": [
    {
      "cell_type": "markdown",
      "metadata": {
        "id": "view-in-github",
        "colab_type": "text"
      },
      "source": [
        "<a href=\"https://colab.research.google.com/github/BhavneetSaini/NeuralNetworkPractical/blob/main/9lineofCode.ipynb\" target=\"_parent\"><img src=\"https://colab.research.google.com/assets/colab-badge.svg\" alt=\"Open In Colab\"/></a>"
      ]
    },
    {
      "cell_type": "code",
      "execution_count": 1,
      "metadata": {
        "colab": {
          "base_uri": "https://localhost:8080/"
        },
        "id": "NFwieyCZCCP3",
        "outputId": "a3cc2e53-5ca2-4e3a-f4dd-ffa33fd7196d"
      },
      "outputs": [
        {
          "output_type": "stream",
          "name": "stdout",
          "text": [
            "[0.99993704]\n"
          ]
        }
      ],
      "source": [
        "from numpy import exp, array, random, dot\n",
        "training_set_inputs = array([[0, 0, 1], [1, 1, 1], [1, 0, 1], [0, 1, 1]])\n",
        "training_set_outputs = array([[0, 1, 1, 0]]).T\n",
        "random.seed(1)\n",
        "synaptic_weights = 2 * random.random((3, 1)) - 1\n",
        "for iteration in range(10000):\n",
        "    output = 1 / (1 + exp(-(dot(training_set_inputs, synaptic_weights))))\n",
        "    synaptic_weights += dot(training_set_inputs.T, (training_set_outputs - output) * output * (1 - output))\n",
        "print (1 / (1 + exp(-(dot(array([1, 0, 0]), synaptic_weights)))))"
      ]
    },
    {
      "cell_type": "code",
      "source": [
        "from numpy import exp, array, random, dot\n",
        "training_set_inputs = array([[0, 0, 1], [1, 1, 1], [1, 0, 1], [0, 1, 1],[0,0,0]])\n",
        "training_set_outputs = array([[0, 1, 1, 0,0]]).T\n",
        "random.seed(1)\n",
        "synaptic_weights = 2 * random.random((3, 1)) - 1\n",
        "for iteration in range(10000):\n",
        "  output = 1 / (1 + exp(-(dot(training_set_inputs, synaptic_weights))))\n",
        "  synaptic_weights += dot(training_set_inputs.T, (training_set_outputs - output) * output * (1 - output))\n",
        "print (1 / (1 + exp(-(dot(array([0, 0, 0]), synaptic_weights)))))\n"
      ],
      "metadata": {
        "colab": {
          "base_uri": "https://localhost:8080/"
        },
        "id": "sGVVB4LkM48g",
        "outputId": "dc1830a7-bf73-43e4-e32d-edbadd58dd05"
      },
      "execution_count": 2,
      "outputs": [
        {
          "output_type": "stream",
          "name": "stdout",
          "text": [
            "[0.5]\n"
          ]
        }
      ]
    }
  ]
}