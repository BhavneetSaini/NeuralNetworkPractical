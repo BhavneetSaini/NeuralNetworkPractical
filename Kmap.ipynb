{
  "nbformat": 4,
  "nbformat_minor": 0,
  "metadata": {
    "colab": {
      "provenance": [],
      "gpuType": "T4",
      "authorship_tag": "ABX9TyOYJ3sIsxW3FgL6HqsS7AeQ",
      "include_colab_link": true
    },
    "kernelspec": {
      "name": "python3",
      "display_name": "Python 3"
    },
    "language_info": {
      "name": "python"
    }
  },
  "cells": [
    {
      "cell_type": "markdown",
      "metadata": {
        "id": "view-in-github",
        "colab_type": "text"
      },
      "source": [
        "<a href=\"https://colab.research.google.com/github/BhavneetSaini/NeuralNetworkPractical/blob/main/Kmap.ipynb\" target=\"_parent\"><img src=\"https://colab.research.google.com/assets/colab-badge.svg\" alt=\"Open In Colab\"/></a>"
      ]
    },
    {
      "cell_type": "code",
      "execution_count": 1,
      "metadata": {
        "id": "THHcN7vqGD02",
        "colab": {
          "base_uri": "https://localhost:8080/"
        },
        "outputId": "0c58bd82-4485-4331-dadd-9b6bf2093d9c"
      },
      "outputs": [
        {
          "output_type": "stream",
          "name": "stdout",
          "text": [
            "Test Sample s belongs to Cluster :  1\n",
            "Trained weights :  [[0.009375, 0.0109375, 0.6703125000000001, 0.9984375], [0.996875, 0.334375, 0.0109375, 0.0046875]]\n",
            "Clustering complete\n"
          ]
        }
      ],
      "source": [
        "import math\n",
        "class SOM:\n",
        "  # Function here computes the winning vector\n",
        "  # by Euclidean distance\n",
        "  def winner(self, weights, sample):\n",
        "    D0 = 0\n",
        "    D1 = 0\n",
        "    for i in range(len(sample)):\n",
        "        D0 = D0 + math.pow((sample[i] - weights[0][i]), 2)\n",
        "        D1 = D1 + math.pow((sample[i] - weights[1][i]), 2)\n",
        "        # Selecting the cluster with smallest distance as winning cluster\n",
        "    if D0 < D1:\n",
        "        return 0\n",
        "    else:\n",
        "        return 1\n",
        "\n",
        "  # Function here updates the winning vector\n",
        "  def update(self, weights, sample, J, alpha):\n",
        "      # Here iterating over the weights of winning cluster and modifying them\n",
        "      for i in range(len(weights[0])):\n",
        "          weights[J][i] = weights[J][i] + alpha * (sample[i] - weights[J][i])\n",
        "\n",
        "      return weights\n",
        "\n",
        "# Driver code\n",
        "\n",
        "def main():\n",
        "    # Training Examples ( m, n )\n",
        "    T = [[1, 1, 0, 0], [0, 0, 0, 1], [1, 0, 0, 0], [0, 0, 1, 1]]\n",
        "    m, n = len(T), len(T[0])\n",
        "    # weight initialization ( n, C )\n",
        "    weights = [[0.6, 0.7, 0.9, 0.9], [0.8, 0.4, 0.7, 0.3]]\n",
        "# training\n",
        "    ob = SOM()\n",
        "    epochs = 3\n",
        "    alpha = 0.5\n",
        "    for i in range(epochs):\n",
        "        for j in range(m):\n",
        "            # training sample\n",
        "            sample = T[j]\n",
        "            # Compute winner vector\n",
        "            J = ob.winner(weights, sample)\n",
        "            # Update winning vector\n",
        "            weights = ob.update(weights, sample, J, alpha)\n",
        "\n",
        "# classify test sample\n",
        "    s = [1, 0, 0, 1]\n",
        "    J = ob.winner(weights, s)\n",
        "    print(\"Test Sample s belongs to Cluster : \", J)\n",
        "    print(\"Trained weights : \", weights)\n",
        "    print(\"Clustering complete\")\n",
        "\n",
        "if __name__ == \"__main__\":\n",
        "    main()"
      ]
    },
    {
      "cell_type": "code",
      "source": [
        "import math\n",
        "class SOM:\n",
        "  # Function here computes the winning vector (cluster index and weights)\n",
        "  # by Euclidean distance\n",
        "  def winner(self, weights, sample):\n",
        "    D0 = 0\n",
        "    D1 = 0\n",
        "     # Calculate Euclidean distance from sample to both clusters (weights)\n",
        "    for i in range(len(sample)):\n",
        "        D0 = D0 + math.pow((sample[i] - weights[0][i]), 2)\n",
        "        D1 = D1 + math.pow((sample[i] - weights[1][i]), 2)\n",
        "\n",
        "    # Selecting the cluster with smallest distance as winning cluster\n",
        "    if D0 < D1:\n",
        "      return 0, weights[0] # Return cluster index 0 and its corresponding weights\n",
        "    else:\n",
        "      return 1, weights[1] # Return cluster index 1 and its corresponding weights\n",
        "\n",
        "    # Function here updates the winning vector (weights)\n",
        "  def update(self, weights, sample, J, alpha):\n",
        "    # Update the weights of the winning cluster\n",
        "      for i in range(len(weights[0])):\n",
        "          weights[J][i] = weights[J][i] + alpha * (sample[i] - weights[J][i])\n",
        "      return weights\n",
        "\n",
        "# Driver code\n",
        "def main():\n",
        "    # Training Examples (m samples, n features)\n",
        "    T = [[1, 1, 0, 0], [0, 0, 0, 1], [1, 0, 0, 0], [0, 0, 1, 1]]\n",
        "    # m: Number of training samples, n: Number of features per sample\n",
        "    m, n = len(T), len(T[0])\n",
        "    # Weight initialization (n features, C clusters)\n",
        "    weights = [[0.2, 0.6, 0.5, 0.9], [0.8, 0.4, 0.7, 0.3]]\n",
        "    # Create SOM object\n",
        "    ob = SOM()\n",
        "    # Training parameters\n",
        "    epochs = 3\n",
        "    alpha = 0.5\n",
        "    # Training loop\n",
        "    for i in range(epochs):\n",
        "        for j in range(m):\n",
        "            # Current training sample\n",
        "              sample = T[j]\n",
        "              # Compute the winning vector (cluster index)\n",
        "              J, winning_weights = ob.winner(weights, sample)\n",
        "              # Print the winning weights during training\n",
        "              print(f\"Training Sample {j + 1}: Winning Cluster = {J}, Winning Weights = {winning_weights}\")\n",
        "              # Update the winning cluster's weights\n",
        "              weights = ob.update(weights, sample, J, alpha)\n",
        "     # Test sample classification\n",
        "    s = [0, 0, 0, 1]\n",
        "    J, winning_weights = ob.winner(weights, s)\n",
        "\n",
        "    # Output the results\n",
        "    print(f\"\\nTest Sample s belongs to Cluster: {J}\")\n",
        "    print(f\"Winning Weights for Test Sample: {winning_weights}\")\n",
        "    print(f\"Trained Weights after all epochs: {weights}\")\n",
        "\n",
        "# Run the main function when the script is executed directly\n",
        "if __name__ == \"__main__\":\n",
        "      main()\n",
        "\n"
      ],
      "metadata": {
        "colab": {
          "base_uri": "https://localhost:8080/"
        },
        "id": "fNWGjM0_QPHy",
        "outputId": "6ac93d1c-7619-4053-ced0-5b6861548f7b"
      },
      "execution_count": 1,
      "outputs": [
        {
          "output_type": "stream",
          "name": "stdout",
          "text": [
            "Training Sample 1: Winning Cluster = 1, Winning Weights = [0.8, 0.4, 0.7, 0.3]\n",
            "Training Sample 2: Winning Cluster = 0, Winning Weights = [0.2, 0.6, 0.5, 0.9]\n",
            "Training Sample 3: Winning Cluster = 1, Winning Weights = [0.9, 0.7, 0.35, 0.15]\n",
            "Training Sample 4: Winning Cluster = 0, Winning Weights = [0.1, 0.3, 0.25, 0.95]\n",
            "Training Sample 1: Winning Cluster = 1, Winning Weights = [0.95, 0.35, 0.175, 0.075]\n",
            "Training Sample 2: Winning Cluster = 0, Winning Weights = [0.05, 0.15, 0.625, 0.975]\n",
            "Training Sample 3: Winning Cluster = 1, Winning Weights = [0.975, 0.675, 0.0875, 0.0375]\n",
            "Training Sample 4: Winning Cluster = 0, Winning Weights = [0.025, 0.075, 0.3125, 0.9875]\n",
            "Training Sample 1: Winning Cluster = 1, Winning Weights = [0.9875, 0.3375, 0.04375, 0.01875]\n",
            "Training Sample 2: Winning Cluster = 0, Winning Weights = [0.0125, 0.0375, 0.65625, 0.99375]\n",
            "Training Sample 3: Winning Cluster = 1, Winning Weights = [0.99375, 0.66875, 0.021875, 0.009375]\n",
            "Training Sample 4: Winning Cluster = 0, Winning Weights = [0.00625, 0.01875, 0.328125, 0.996875]\n",
            "\n",
            "Test Sample s belongs to Cluster: 0\n",
            "Winning Weights for Test Sample: [0.003125, 0.009375, 0.6640625, 0.9984375]\n",
            "Trained Weights after all epochs: [[0.003125, 0.009375, 0.6640625, 0.9984375], [0.996875, 0.334375, 0.0109375, 0.0046875]]\n"
          ]
        }
      ]
    }
  ]
}