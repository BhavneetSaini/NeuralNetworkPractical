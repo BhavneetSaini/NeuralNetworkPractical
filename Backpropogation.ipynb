{
  "nbformat": 4,
  "nbformat_minor": 0,
  "metadata": {
    "colab": {
      "provenance": [],
      "authorship_tag": "ABX9TyPmJh2zQfIJfSsd15wvL6Em",
      "include_colab_link": true
    },
    "kernelspec": {
      "name": "python3",
      "display_name": "Python 3"
    },
    "language_info": {
      "name": "python"
    }
  },
  "cells": [
    {
      "cell_type": "markdown",
      "metadata": {
        "id": "view-in-github",
        "colab_type": "text"
      },
      "source": [
        "<a href=\"https://colab.research.google.com/github/BhavneetSaini/NeuralNetworkPractical/blob/main/Backpropogation.ipynb\" target=\"_parent\"><img src=\"https://colab.research.google.com/assets/colab-badge.svg\" alt=\"Open In Colab\"/></a>"
      ]
    },
    {
      "cell_type": "code",
      "execution_count": 1,
      "metadata": {
        "colab": {
          "base_uri": "https://localhost:8080/"
        },
        "id": "EG_habQyNHNJ",
        "outputId": "bf9daa8e-bd46-48da-afb9-e13fc71213cd"
      },
      "outputs": [
        {
          "output_type": "stream",
          "name": "stdout",
          "text": [
            "[0.99929766]\n"
          ]
        }
      ],
      "source": [
        "import numpy as np\n",
        "  # Training data\n",
        "training_set_inputs = np.array([[0, 0, 1], [1, 1, 1], [1, 0, 1], [0, 1, 1]])\n",
        "training_set_outputs = np.array([[0], [1], [1], [0]])\n",
        "  # Initialize weights\n",
        "np.random.seed(1)\n",
        "synaptic_weights = 2 * np.random.random((3, 1)) - 1\n",
        "  # Define learning rate\n",
        "learning_rate = 0.1\n",
        "  # Training the model\n",
        "for iteration in range(10000):\n",
        "    # Forward propagation\n",
        "    output = 1 / (1 + np.exp(-(np.dot(training_set_inputs, synaptic_weights))))\n",
        "    # Backpropagation\n",
        "    error = training_set_outputs - output\n",
        "    adjustments = error * output * (1 - output)\n",
        "    synaptic_weights += learning_rate * np.dot(training_set_inputs.T, adjustments)\n",
        "# Test the trained model\n",
        "test_input = np.array([1, 0, 0])\n",
        "test_output = 1 / (1 + np.exp(-(np.dot(test_input, synaptic_weights))))\n",
        "print(test_output)"
      ]
    }
  ]
}